{
 "cells": [
  {
   "cell_type": "code",
   "execution_count": 73,
   "id": "85761f88-06c5-4599-b7e7-6bf0b44089dc",
   "metadata": {},
   "outputs": [],
   "source": [
    "# IMDb Movie Reviews Sentiment Analysis \n",
    "'''\n",
    "Requiremented Results:\n",
    "- Accurate prediction of movie review sentiment. \n",
    "- Understanding of how CNN models process and classify sequential text data. \n",
    "- Visualization of training progress. \n",
    "- Deployment-ready sentiment analysis model. \n",
    "'''\n",
    "\n",
    "# Import python libraries\n",
    "import tensorflow as tf\n",
    "import matplotlib.pyplot as plt\n",
    "import numpy as np\n",
    "from tensorflow.keras import layers, models\n",
    "\n",
    "# Tokenizer to map words to numbers\n",
    "from tensorflow.keras.preprocessing.text import Tokenizer\n",
    "from tensorflow.keras.preprocessing.sequence import pad_sequences\n",
    "\n",
    "# For reading file content\n",
    "import pandas as pd\n",
    "from sklearn.model_selection import train_test_split\n",
    "from nltk.tokenize import word_tokenize\n",
    "import re"
   ]
  },
  {
   "cell_type": "code",
   "execution_count": 3,
   "id": "e3f71a6d-df4e-44a5-974d-d111ad4fb94e",
   "metadata": {},
   "outputs": [
    {
     "data": {
      "text/html": [
       "<div>\n",
       "<style scoped>\n",
       "    .dataframe tbody tr th:only-of-type {\n",
       "        vertical-align: middle;\n",
       "    }\n",
       "\n",
       "    .dataframe tbody tr th {\n",
       "        vertical-align: top;\n",
       "    }\n",
       "\n",
       "    .dataframe thead th {\n",
       "        text-align: right;\n",
       "    }\n",
       "</style>\n",
       "<table border=\"1\" class=\"dataframe\">\n",
       "  <thead>\n",
       "    <tr style=\"text-align: right;\">\n",
       "      <th></th>\n",
       "      <th>Review</th>\n",
       "      <th>Sentiment</th>\n",
       "    </tr>\n",
       "  </thead>\n",
       "  <tbody>\n",
       "    <tr>\n",
       "      <th>0</th>\n",
       "      <td>This was an absolutely terrible movie. Don't b...</td>\n",
       "      <td>Negative</td>\n",
       "    </tr>\n",
       "    <tr>\n",
       "      <th>1</th>\n",
       "      <td>I have been known to fall asleep during films,...</td>\n",
       "      <td>Negative</td>\n",
       "    </tr>\n",
       "    <tr>\n",
       "      <th>2</th>\n",
       "      <td>Mann photographs the Alberta Rocky Mountains i...</td>\n",
       "      <td>Negative</td>\n",
       "    </tr>\n",
       "    <tr>\n",
       "      <th>3</th>\n",
       "      <td>This is the kind of film for a snowy Sunday af...</td>\n",
       "      <td>Positive</td>\n",
       "    </tr>\n",
       "    <tr>\n",
       "      <th>4</th>\n",
       "      <td>As others have mentioned, all the women that g...</td>\n",
       "      <td>Positive</td>\n",
       "    </tr>\n",
       "  </tbody>\n",
       "</table>\n",
       "</div>"
      ],
      "text/plain": [
       "                                              Review Sentiment\n",
       "0  This was an absolutely terrible movie. Don't b...  Negative\n",
       "1  I have been known to fall asleep during films,...  Negative\n",
       "2  Mann photographs the Alberta Rocky Mountains i...  Negative\n",
       "3  This is the kind of film for a snowy Sunday af...  Positive\n",
       "4  As others have mentioned, all the women that g...  Positive"
      ]
     },
     "execution_count": 3,
     "metadata": {},
     "output_type": "execute_result"
    }
   ],
   "source": [
    "# Loading the dataset to train and test\n",
    "imdb_df = pd.read_csv('imdb_full_dataset.csv')\n",
    "imdb_df.head()"
   ]
  },
  {
   "cell_type": "code",
   "execution_count": 75,
   "id": "501069be-a46a-4a08-a33a-475f4f0c6ac9",
   "metadata": {},
   "outputs": [
    {
     "name": "stdout",
     "output_type": "stream",
     "text": [
      "Step 2 – Sample basic tokens: ['this', 'was', 'an', 'absolutely', 'terrible', 'movie', 'dont', 'be', 'lured', 'in', 'by', 'christopher', 'walken', 'or', 'michael', 'ironside', 'both', 'are', 'great', 'actors', 'but', 'this', 'must', 'simply', 'be', 'their', 'worst', 'role', 'in', 'history', 'even', 'their', 'great', 'acting', 'could', 'not', 'redeem', 'this', 'movies', 'ridiculous', 'storyline', 'this', 'movie', 'is', 'an', 'early', 'nineties', 'us', 'propaganda', 'piece', 'the', 'most', 'pathetic', 'scenes', 'were', 'those', 'when', 'the', 'columbian', 'rebels', 'were', 'making', 'their', 'cases', 'for', 'revolutions', 'maria', 'conchita', 'alonso', 'appeared', 'phony', 'and', 'her', 'pseudolove', 'affair', 'with', 'walken', 'was', 'nothing', 'but', 'a', 'pathetic', 'emotional', 'plug', 'in', 'a', 'movie', 'that', 'was', 'devoid', 'of', 'any', 'real', 'meaning', 'i', 'am', 'disappointed', 'that', 'there', 'are', 'movies', 'like', 'this', 'ruining', 'actors', 'like', 'christopher', 'walkens', 'good', 'name', 'i', 'could', 'barely', 'sit', 'through', 'it'] \n",
      "\n"
     ]
    }
   ],
   "source": [
    "# Starting Text Pre-Processing For The CNN\n",
    "def basic_tokenize(text):\n",
    "    \"\"\"NLTK word_tokenize: splits on punctuation & whitespace.\"\"\"\n",
    "    return word_tokenize(text)\n",
    "\n",
    "def clean_text(text):\n",
    "    return re.sub(r'[^a-zA-Z0-9\\s]', '', text)\n",
    "    \n",
    "imdb_df['tokens_basic'] = imdb_df['Review'].apply(lambda x: basic_tokenize(clean_text(x.lower())))\n",
    "print(\"Step 2 – Sample basic tokens:\", imdb_df.loc[0, 'tokens_basic'], '\\n')\n"
   ]
  },
  {
   "cell_type": "code",
   "execution_count": 77,
   "id": "fb0fc99f-188a-4739-82e4-097fe8124f51",
   "metadata": {},
   "outputs": [
    {
     "name": "stdout",
     "output_type": "stream",
     "text": [
      "[[  12   14   33  420  382   18   90   27    1    9   32 1460 4087   39\n",
      "   499    1  196   24   79  151   19   12  207  331   27   66  247  215\n",
      "     9  485   58   66   79  114   99   22 5800   12 1381  647  774   12\n",
      "    18    7   33  405 9016  177 2328  413    2   89 1152  135   71  144\n",
      "    51    2    1 6553   71  233   66 3097   16    1 3150    1    1 1531\n",
      "  4680    3   41 3805  113 1505   17 4087   14  162   19    4 1152  888\n",
      "  9017    9    4   18   13   14 3855    5  100  145 1159   11  236  681\n",
      "    13   47]\n",
      " [  11   26   76  552    6  779 2396  301  105   19   12    7  632  694\n",
      "     6    4 2175    5  178  586   63 1429  110 2355    3 3820   21    2\n",
      "     1    3  264   40 4149    4  170  189   21   12 4572   11 1498 2396\n",
      "    85    2   20   14 1920    2  112  980   14 1875 1329  562    3  349\n",
      "   178  464    6  582   19   17   55 1775    5   49   14 3691   94   39\n",
      "   136   11  987   11  201   26 1055  174    5    2   20   19   11  288\n",
      "     2 2240    5   10    3  268   40  464    6  582    5   93  200    1\n",
      "   209  100]\n",
      " [5597 6731    2    1 4573 4288    9    4  917 1583    3 2127 1584    3\n",
      "  2557    1  198  733  368   15   34  212  309    6   78    8    8   19\n",
      "   216   21  370    4    1  998    2   84    5 6089  539    1    6    1\n",
      "   530    4    1  423    4    1    3    6    1    2 1136  530   92    1\n",
      "  7202   10   42   21    2 2033   16 1140    5    2  511    8    8  162\n",
      "    58 2629 6687   13  597   21    2 2368  487    5    2 4104  301    2\n",
      "     1 1676 3242  440 5597    3 1090  981    6   26 4150 6089  539   16\n",
      "     1    2]\n",
      " [  12    7    2  243    5   20   16    4 9409 2830 2861   51    2  371\n",
      "     5    2  182   68  140 1444   17   93  200  966   15   23    1   83\n",
      "     4  192 2852 3007    3    1   16    4  375    5  633  394  368   37\n",
      "  9312    3 6230 2464   15  212 9107 3119    2  112  341   47   24   55\n",
      "     1    6 1632   55 1736 4074   40    4 2355    3 1916    1  141  169\n",
      "   875  115   31   93  117    4  237   20    9  171  283    3   28   13\n",
      "  1004    2 2518   10 2016    0    0    0    0    0    0    0    0    0\n",
      "     0    0]\n",
      " [  15  401   26 1073   30    2  379   13  140 2785    9   12   20   24\n",
      "   667  420 1541    2  112   53    1  277    2 9108    5    2  655    1\n",
      "    51  346   24  184   34  179    6   27 6472   19   51   55  346   24\n",
      "   184   34  427    2    1    5    4 2718  302  156  421    3    2  421\n",
      "   479    4  129   63  715   74  143   30   27   35 2009   31   12  600\n",
      "    29   92  218   54    2 3103    6 6640   25  290  113    0    0    0\n",
      "     0    0    0    0    0    0    0    0    0    0    0    0    0    0\n",
      "     0    0]]\n"
     ]
    }
   ],
   "source": [
    "# Using tensorflow for tokenization, rather than doing it manually like in the lectures.\n",
    "# Create tokenizer\n",
    "tokenizer = Tokenizer(num_words=10000, oov_token='<OOV>')\n",
    "tokenizer.fit_on_texts(imdb_df['Review'])\n",
    "\n",
    "# Convert to sequences\n",
    "sequences = tokenizer.texts_to_sequences(imdb_df['Review'])\n",
    "\n",
    "# Pad sequences for consistent input shape\n",
    "padded_sequences = pad_sequences(sequences, maxlen=100, padding='post', truncating='post')\n",
    "\n",
    "print(padded_sequences[:5])"
   ]
  },
  {
   "cell_type": "code",
   "execution_count": 78,
   "id": "346aace1-0d14-4e39-825d-e012a820f865",
   "metadata": {},
   "outputs": [],
   "source": [
    "from sklearn.preprocessing import LabelEncoder\n",
    "\n",
    "le = LabelEncoder()\n",
    "y = le.fit_transform(imdb_df['Sentiment'])  # pos → 1, neg → 0\n"
   ]
  },
  {
   "cell_type": "code",
   "execution_count": 79,
   "id": "8ea2a9b1-a0df-42c1-a7ab-971a1a561cd6",
   "metadata": {},
   "outputs": [],
   "source": [
    "# Beginning to build the CNN\n",
    "\n",
    "sa_model = models.Sequential([\n",
    "    # The embedding layer is there to convert the word vector into more meaningful numbers.\n",
    "    # embeddings numbers show similarity between words and thus help convey deeper meaning than words alone.\n",
    "    layers.Embedding(input_dim=20000, output_dim=100),\n",
    "\n",
    "    layers.Conv1D(128, kernel_size=5, activation='relu'),\n",
    "    layers.MaxPooling1D(pool_size=2),\n",
    "\n",
    "    layers.Conv1D(64, kernel_size=3, activation='relu'),\n",
    "    layers.MaxPooling1D(pool_size=2),\n",
    "\n",
    "    layers.Flatten(),\n",
    "\n",
    "    layers.Dense(64, activation='relu'),\n",
    "    layers.Dropout(0.5),\n",
    "\n",
    "    layers.Dense(1, activation='sigmoid')  # Binary sentiment (positive/negative)\n",
    "])\n",
    "\n",
    "\n",
    "_ = sa_model(tf.keras.Input(shape=(100, )))"
   ]
  },
  {
   "cell_type": "code",
   "execution_count": 80,
   "id": "a070d20d-2662-4166-8b74-128b9704c396",
   "metadata": {},
   "outputs": [
    {
     "data": {
      "text/html": [
       "<pre style=\"white-space:pre;overflow-x:auto;line-height:normal;font-family:Menlo,'DejaVu Sans Mono',consolas,'Courier New',monospace\"><span style=\"font-weight: bold\">Model: \"sequential_4\"</span>\n",
       "</pre>\n"
      ],
      "text/plain": [
       "\u001b[1mModel: \"sequential_4\"\u001b[0m\n"
      ]
     },
     "metadata": {},
     "output_type": "display_data"
    },
    {
     "data": {
      "text/html": [
       "<pre style=\"white-space:pre;overflow-x:auto;line-height:normal;font-family:Menlo,'DejaVu Sans Mono',consolas,'Courier New',monospace\">┏━━━━━━━━━━━━━━━━━━━━━━━━━━━━━━━━━━━━━━┳━━━━━━━━━━━━━━━━━━━━━━━━━━━━━┳━━━━━━━━━━━━━━━━━┓\n",
       "┃<span style=\"font-weight: bold\"> Layer (type)                         </span>┃<span style=\"font-weight: bold\"> Output Shape                </span>┃<span style=\"font-weight: bold\">         Param # </span>┃\n",
       "┡━━━━━━━━━━━━━━━━━━━━━━━━━━━━━━━━━━━━━━╇━━━━━━━━━━━━━━━━━━━━━━━━━━━━━╇━━━━━━━━━━━━━━━━━┩\n",
       "│ embedding_4 (<span style=\"color: #0087ff; text-decoration-color: #0087ff\">Embedding</span>)              │ (<span style=\"color: #00d7ff; text-decoration-color: #00d7ff\">None</span>, <span style=\"color: #00af00; text-decoration-color: #00af00\">100</span>, <span style=\"color: #00af00; text-decoration-color: #00af00\">100</span>)            │       <span style=\"color: #00af00; text-decoration-color: #00af00\">2,000,000</span> │\n",
       "├──────────────────────────────────────┼─────────────────────────────┼─────────────────┤\n",
       "│ conv1d_8 (<span style=\"color: #0087ff; text-decoration-color: #0087ff\">Conv1D</span>)                    │ (<span style=\"color: #00d7ff; text-decoration-color: #00d7ff\">None</span>, <span style=\"color: #00af00; text-decoration-color: #00af00\">96</span>, <span style=\"color: #00af00; text-decoration-color: #00af00\">128</span>)             │          <span style=\"color: #00af00; text-decoration-color: #00af00\">64,128</span> │\n",
       "├──────────────────────────────────────┼─────────────────────────────┼─────────────────┤\n",
       "│ max_pooling1d_8 (<span style=\"color: #0087ff; text-decoration-color: #0087ff\">MaxPooling1D</span>)       │ (<span style=\"color: #00d7ff; text-decoration-color: #00d7ff\">None</span>, <span style=\"color: #00af00; text-decoration-color: #00af00\">48</span>, <span style=\"color: #00af00; text-decoration-color: #00af00\">128</span>)             │               <span style=\"color: #00af00; text-decoration-color: #00af00\">0</span> │\n",
       "├──────────────────────────────────────┼─────────────────────────────┼─────────────────┤\n",
       "│ conv1d_9 (<span style=\"color: #0087ff; text-decoration-color: #0087ff\">Conv1D</span>)                    │ (<span style=\"color: #00d7ff; text-decoration-color: #00d7ff\">None</span>, <span style=\"color: #00af00; text-decoration-color: #00af00\">46</span>, <span style=\"color: #00af00; text-decoration-color: #00af00\">64</span>)              │          <span style=\"color: #00af00; text-decoration-color: #00af00\">24,640</span> │\n",
       "├──────────────────────────────────────┼─────────────────────────────┼─────────────────┤\n",
       "│ max_pooling1d_9 (<span style=\"color: #0087ff; text-decoration-color: #0087ff\">MaxPooling1D</span>)       │ (<span style=\"color: #00d7ff; text-decoration-color: #00d7ff\">None</span>, <span style=\"color: #00af00; text-decoration-color: #00af00\">23</span>, <span style=\"color: #00af00; text-decoration-color: #00af00\">64</span>)              │               <span style=\"color: #00af00; text-decoration-color: #00af00\">0</span> │\n",
       "├──────────────────────────────────────┼─────────────────────────────┼─────────────────┤\n",
       "│ flatten_4 (<span style=\"color: #0087ff; text-decoration-color: #0087ff\">Flatten</span>)                  │ (<span style=\"color: #00d7ff; text-decoration-color: #00d7ff\">None</span>, <span style=\"color: #00af00; text-decoration-color: #00af00\">1472</span>)                │               <span style=\"color: #00af00; text-decoration-color: #00af00\">0</span> │\n",
       "├──────────────────────────────────────┼─────────────────────────────┼─────────────────┤\n",
       "│ dense_8 (<span style=\"color: #0087ff; text-decoration-color: #0087ff\">Dense</span>)                      │ (<span style=\"color: #00d7ff; text-decoration-color: #00d7ff\">None</span>, <span style=\"color: #00af00; text-decoration-color: #00af00\">64</span>)                  │          <span style=\"color: #00af00; text-decoration-color: #00af00\">94,272</span> │\n",
       "├──────────────────────────────────────┼─────────────────────────────┼─────────────────┤\n",
       "│ dropout_4 (<span style=\"color: #0087ff; text-decoration-color: #0087ff\">Dropout</span>)                  │ (<span style=\"color: #00d7ff; text-decoration-color: #00d7ff\">None</span>, <span style=\"color: #00af00; text-decoration-color: #00af00\">64</span>)                  │               <span style=\"color: #00af00; text-decoration-color: #00af00\">0</span> │\n",
       "├──────────────────────────────────────┼─────────────────────────────┼─────────────────┤\n",
       "│ dense_9 (<span style=\"color: #0087ff; text-decoration-color: #0087ff\">Dense</span>)                      │ (<span style=\"color: #00d7ff; text-decoration-color: #00d7ff\">None</span>, <span style=\"color: #00af00; text-decoration-color: #00af00\">1</span>)                   │              <span style=\"color: #00af00; text-decoration-color: #00af00\">65</span> │\n",
       "└──────────────────────────────────────┴─────────────────────────────┴─────────────────┘\n",
       "</pre>\n"
      ],
      "text/plain": [
       "┏━━━━━━━━━━━━━━━━━━━━━━━━━━━━━━━━━━━━━━┳━━━━━━━━━━━━━━━━━━━━━━━━━━━━━┳━━━━━━━━━━━━━━━━━┓\n",
       "┃\u001b[1m \u001b[0m\u001b[1mLayer (type)                        \u001b[0m\u001b[1m \u001b[0m┃\u001b[1m \u001b[0m\u001b[1mOutput Shape               \u001b[0m\u001b[1m \u001b[0m┃\u001b[1m \u001b[0m\u001b[1m        Param #\u001b[0m\u001b[1m \u001b[0m┃\n",
       "┡━━━━━━━━━━━━━━━━━━━━━━━━━━━━━━━━━━━━━━╇━━━━━━━━━━━━━━━━━━━━━━━━━━━━━╇━━━━━━━━━━━━━━━━━┩\n",
       "│ embedding_4 (\u001b[38;5;33mEmbedding\u001b[0m)              │ (\u001b[38;5;45mNone\u001b[0m, \u001b[38;5;34m100\u001b[0m, \u001b[38;5;34m100\u001b[0m)            │       \u001b[38;5;34m2,000,000\u001b[0m │\n",
       "├──────────────────────────────────────┼─────────────────────────────┼─────────────────┤\n",
       "│ conv1d_8 (\u001b[38;5;33mConv1D\u001b[0m)                    │ (\u001b[38;5;45mNone\u001b[0m, \u001b[38;5;34m96\u001b[0m, \u001b[38;5;34m128\u001b[0m)             │          \u001b[38;5;34m64,128\u001b[0m │\n",
       "├──────────────────────────────────────┼─────────────────────────────┼─────────────────┤\n",
       "│ max_pooling1d_8 (\u001b[38;5;33mMaxPooling1D\u001b[0m)       │ (\u001b[38;5;45mNone\u001b[0m, \u001b[38;5;34m48\u001b[0m, \u001b[38;5;34m128\u001b[0m)             │               \u001b[38;5;34m0\u001b[0m │\n",
       "├──────────────────────────────────────┼─────────────────────────────┼─────────────────┤\n",
       "│ conv1d_9 (\u001b[38;5;33mConv1D\u001b[0m)                    │ (\u001b[38;5;45mNone\u001b[0m, \u001b[38;5;34m46\u001b[0m, \u001b[38;5;34m64\u001b[0m)              │          \u001b[38;5;34m24,640\u001b[0m │\n",
       "├──────────────────────────────────────┼─────────────────────────────┼─────────────────┤\n",
       "│ max_pooling1d_9 (\u001b[38;5;33mMaxPooling1D\u001b[0m)       │ (\u001b[38;5;45mNone\u001b[0m, \u001b[38;5;34m23\u001b[0m, \u001b[38;5;34m64\u001b[0m)              │               \u001b[38;5;34m0\u001b[0m │\n",
       "├──────────────────────────────────────┼─────────────────────────────┼─────────────────┤\n",
       "│ flatten_4 (\u001b[38;5;33mFlatten\u001b[0m)                  │ (\u001b[38;5;45mNone\u001b[0m, \u001b[38;5;34m1472\u001b[0m)                │               \u001b[38;5;34m0\u001b[0m │\n",
       "├──────────────────────────────────────┼─────────────────────────────┼─────────────────┤\n",
       "│ dense_8 (\u001b[38;5;33mDense\u001b[0m)                      │ (\u001b[38;5;45mNone\u001b[0m, \u001b[38;5;34m64\u001b[0m)                  │          \u001b[38;5;34m94,272\u001b[0m │\n",
       "├──────────────────────────────────────┼─────────────────────────────┼─────────────────┤\n",
       "│ dropout_4 (\u001b[38;5;33mDropout\u001b[0m)                  │ (\u001b[38;5;45mNone\u001b[0m, \u001b[38;5;34m64\u001b[0m)                  │               \u001b[38;5;34m0\u001b[0m │\n",
       "├──────────────────────────────────────┼─────────────────────────────┼─────────────────┤\n",
       "│ dense_9 (\u001b[38;5;33mDense\u001b[0m)                      │ (\u001b[38;5;45mNone\u001b[0m, \u001b[38;5;34m1\u001b[0m)                   │              \u001b[38;5;34m65\u001b[0m │\n",
       "└──────────────────────────────────────┴─────────────────────────────┴─────────────────┘\n"
      ]
     },
     "metadata": {},
     "output_type": "display_data"
    },
    {
     "data": {
      "text/html": [
       "<pre style=\"white-space:pre;overflow-x:auto;line-height:normal;font-family:Menlo,'DejaVu Sans Mono',consolas,'Courier New',monospace\"><span style=\"font-weight: bold\"> Total params: </span><span style=\"color: #00af00; text-decoration-color: #00af00\">2,183,105</span> (8.33 MB)\n",
       "</pre>\n"
      ],
      "text/plain": [
       "\u001b[1m Total params: \u001b[0m\u001b[38;5;34m2,183,105\u001b[0m (8.33 MB)\n"
      ]
     },
     "metadata": {},
     "output_type": "display_data"
    },
    {
     "data": {
      "text/html": [
       "<pre style=\"white-space:pre;overflow-x:auto;line-height:normal;font-family:Menlo,'DejaVu Sans Mono',consolas,'Courier New',monospace\"><span style=\"font-weight: bold\"> Trainable params: </span><span style=\"color: #00af00; text-decoration-color: #00af00\">2,183,105</span> (8.33 MB)\n",
       "</pre>\n"
      ],
      "text/plain": [
       "\u001b[1m Trainable params: \u001b[0m\u001b[38;5;34m2,183,105\u001b[0m (8.33 MB)\n"
      ]
     },
     "metadata": {},
     "output_type": "display_data"
    },
    {
     "data": {
      "text/html": [
       "<pre style=\"white-space:pre;overflow-x:auto;line-height:normal;font-family:Menlo,'DejaVu Sans Mono',consolas,'Courier New',monospace\"><span style=\"font-weight: bold\"> Non-trainable params: </span><span style=\"color: #00af00; text-decoration-color: #00af00\">0</span> (0.00 B)\n",
       "</pre>\n"
      ],
      "text/plain": [
       "\u001b[1m Non-trainable params: \u001b[0m\u001b[38;5;34m0\u001b[0m (0.00 B)\n"
      ]
     },
     "metadata": {},
     "output_type": "display_data"
    }
   ],
   "source": [
    "# model summary\n",
    "sa_model.summary()"
   ]
  },
  {
   "cell_type": "code",
   "execution_count": 136,
   "id": "3ac2e0ab-7d32-43fd-b3ca-f9a4599666c8",
   "metadata": {},
   "outputs": [],
   "source": [
    "# Split train data from test data\n",
    "X_train, X_test, y_train, y_test, train_reviews, test_reviews = train_test_split(\n",
    "    padded_sequences, y, imdb_df['Review'].values,\n",
    "    test_size=0.2,        # 20% test data\n",
    "    random_state=43,      # for reproducibility\n",
    "    # stratify=y            # optional: maintains label balance\n",
    ")"
   ]
  },
  {
   "cell_type": "code",
   "execution_count": 138,
   "id": "3777dd20-e7f4-4337-a0bf-593b2f40988c",
   "metadata": {},
   "outputs": [],
   "source": [
    "# compile model\n",
    "sa_model.compile(optimizer='adam',\n",
    "               loss='binary_crossentropy',\n",
    "               metrics=['accuracy'])"
   ]
  },
  {
   "cell_type": "code",
   "execution_count": 140,
   "id": "a3ce1657-2852-426d-8661-503629b3b9e8",
   "metadata": {},
   "outputs": [
    {
     "name": "stdout",
     "output_type": "stream",
     "text": [
      "Epoch 1/10\n",
      "\u001b[1m500/500\u001b[0m \u001b[32m━━━━━━━━━━━━━━━━━━━━\u001b[0m\u001b[37m\u001b[0m \u001b[1m13s\u001b[0m 21ms/step - accuracy: 0.9326 - loss: 0.2541 - val_accuracy: 0.9370 - val_loss: 0.1898\n",
      "Epoch 2/10\n",
      "\u001b[1m500/500\u001b[0m \u001b[32m━━━━━━━━━━━━━━━━━━━━\u001b[0m\u001b[37m\u001b[0m \u001b[1m10s\u001b[0m 20ms/step - accuracy: 0.9767 - loss: 0.0751 - val_accuracy: 0.9285 - val_loss: 0.2350\n",
      "Epoch 3/10\n",
      "\u001b[1m500/500\u001b[0m \u001b[32m━━━━━━━━━━━━━━━━━━━━\u001b[0m\u001b[37m\u001b[0m \u001b[1m10s\u001b[0m 21ms/step - accuracy: 0.9945 - loss: 0.0204 - val_accuracy: 0.9234 - val_loss: 0.3609\n",
      "Epoch 4/10\n",
      "\u001b[1m500/500\u001b[0m \u001b[32m━━━━━━━━━━━━━━━━━━━━\u001b[0m\u001b[37m\u001b[0m \u001b[1m11s\u001b[0m 21ms/step - accuracy: 0.9978 - loss: 0.0077 - val_accuracy: 0.9165 - val_loss: 0.4308\n",
      "Epoch 5/10\n",
      "\u001b[1m500/500\u001b[0m \u001b[32m━━━━━━━━━━━━━━━━━━━━\u001b[0m\u001b[37m\u001b[0m \u001b[1m12s\u001b[0m 23ms/step - accuracy: 0.9975 - loss: 0.0073 - val_accuracy: 0.9076 - val_loss: 0.5058\n",
      "Epoch 6/10\n",
      "\u001b[1m500/500\u001b[0m \u001b[32m━━━━━━━━━━━━━━━━━━━━\u001b[0m\u001b[37m\u001b[0m \u001b[1m11s\u001b[0m 23ms/step - accuracy: 0.9938 - loss: 0.0179 - val_accuracy: 0.9211 - val_loss: 0.5008\n",
      "Epoch 7/10\n",
      "\u001b[1m500/500\u001b[0m \u001b[32m━━━━━━━━━━━━━━━━━━━━\u001b[0m\u001b[37m\u001b[0m \u001b[1m10s\u001b[0m 21ms/step - accuracy: 0.9978 - loss: 0.0073 - val_accuracy: 0.9087 - val_loss: 0.6379\n",
      "Epoch 8/10\n",
      "\u001b[1m500/500\u001b[0m \u001b[32m━━━━━━━━━━━━━━━━━━━━\u001b[0m\u001b[37m\u001b[0m \u001b[1m9s\u001b[0m 18ms/step - accuracy: 0.9968 - loss: 0.0098 - val_accuracy: 0.9171 - val_loss: 0.5307\n",
      "Epoch 9/10\n",
      "\u001b[1m500/500\u001b[0m \u001b[32m━━━━━━━━━━━━━━━━━━━━\u001b[0m\u001b[37m\u001b[0m \u001b[1m9s\u001b[0m 17ms/step - accuracy: 0.9981 - loss: 0.0058 - val_accuracy: 0.9160 - val_loss: 0.6023\n",
      "Epoch 10/10\n",
      "\u001b[1m500/500\u001b[0m \u001b[32m━━━━━━━━━━━━━━━━━━━━\u001b[0m\u001b[37m\u001b[0m \u001b[1m9s\u001b[0m 18ms/step - accuracy: 0.9978 - loss: 0.0076 - val_accuracy: 0.9120 - val_loss: 0.6586\n"
     ]
    },
    {
     "data": {
      "text/plain": [
       "<keras.src.callbacks.history.History at 0x24e5c3aa2a0>"
      ]
     },
     "execution_count": 140,
     "metadata": {},
     "output_type": "execute_result"
    }
   ],
   "source": [
    "sa_model.fit(X_train, y_train,\n",
    "                             epochs=10,\n",
    "                             batch_size=64,\n",
    "                             validation_split=0.2)"
   ]
  },
  {
   "cell_type": "code",
   "execution_count": 94,
   "id": "42de6d69-1827-4faf-9898-e0c08d250b96",
   "metadata": {},
   "outputs": [
    {
     "name": "stdout",
     "output_type": "stream",
     "text": [
      "\u001b[1m313/313\u001b[0m \u001b[32m━━━━━━━━━━━━━━━━━━━━\u001b[0m\u001b[37m\u001b[0m \u001b[1m1s\u001b[0m 5ms/step - accuracy: 0.8170 - loss: 1.5049\n",
      "Test Accuracy: 0.8218\n"
     ]
    }
   ],
   "source": [
    "# Analysing accuracy of model based on test data. 82% tends to be the industry standard, \n",
    "# even with pre-defined weights from an existing dataset, i couldn't get it lower.\n",
    "test_loss, test_acc = sa_model.evaluate(X_test, y_test)\n",
    "print(f\"Test Accuracy: {test_acc:.4f}\")"
   ]
  },
  {
   "cell_type": "code",
   "execution_count": 142,
   "id": "bff2ae30-ed60-4046-95b5-1d71d521e293",
   "metadata": {},
   "outputs": [
    {
     "name": "stdout",
     "output_type": "stream",
     "text": [
      "\u001b[1m313/313\u001b[0m \u001b[32m━━━━━━━━━━━━━━━━━━━━\u001b[0m\u001b[37m\u001b[0m \u001b[1m1s\u001b[0m 3ms/step\n"
     ]
    },
    {
     "data": {
      "image/png": "[encoded data removed]",
      "text/plain": [
       "<Figure size 800x600 with 2 Axes>"
      ]
     },
     "metadata": {},
     "output_type": "display_data"
    }
   ],
   "source": [
    "# Visualizing the results using a confusion matrix\n",
    "from sklearn.metrics import confusion_matrix\n",
    "import matplotlib.pyplot as plt\n",
    "import seaborn as sns\n",
    "\n",
    "# Assume you have a trained model named 'model'\n",
    "# and test data 'X_test' and 'y_test' (true labels)\n",
    "\n",
    "# 1. Make predictions on the test set\n",
    "predictions = sa_model.predict(X_test)\n",
    "\n",
    "# 2. Convert predictions to class labels (for multi-class classification)\n",
    "predicted_classes = (predictions > 0.5).astype(\"int32\").flatten()\n",
    "\n",
    "# 3. Get true labels (if they are one-hot encoded, convert them)\n",
    "# If y_test is one-hot encoded, convert it to class labels\n",
    "class_names = ['Negative', 'Positive']\n",
    "true_classes = y_test # Adjust if y_test is already in class label format\n",
    "\n",
    "# 4. Generate the confusion matrix\n",
    "cm = confusion_matrix(true_classes, predicted_classes)\n",
    "\n",
    "# 5. Visualize the confusion matrix\n",
    "plt.figure(figsize=(8, 6))\n",
    "sns.heatmap(cm, annot=True, fmt='d', cmap='Blues',\n",
    "            xticklabels=class_names, yticklabels=class_names) # Replace class_names with your actual class names\n",
    "plt.xlabel('Predicted Label')\n",
    "plt.ylabel('True Label')\n",
    "plt.title('Confusion Matrix')\n",
    "plt.show()"
   ]
  },
  {
   "cell_type": "code",
   "execution_count": 144,
   "id": "a697bd96-a932-4c6b-b940-17024c38719e",
   "metadata": {},
   "outputs": [],
   "source": [
    "# Save teh model. Cause I was asked to. Also good for delpoyment\n",
    "sa_model.save('imdb_sa_model.keras')"
   ]
  },
  {
   "cell_type": "code",
   "execution_count": 146,
   "id": "a345a89b-d0cf-4ab2-8c7a-01ad5c94cfff",
   "metadata": {},
   "outputs": [],
   "source": [
    "# Load the model. Cause assignment asked me to.\n",
    "from tensorflow.keras.models import load_model\n",
    "sa_model = load_model('imdb_sa_model.keras')"
   ]
  },
  {
   "cell_type": "code",
   "execution_count": 148,
   "id": "8b3e481c-1d4c-4472-bb64-6f17efb5ff46",
   "metadata": {},
   "outputs": [
    {
     "name": "stdout",
     "output_type": "stream",
     "text": [
      "\u001b[1m1/1\u001b[0m \u001b[32m━━━━━━━━━━━━━━━━━━━━\u001b[0m\u001b[37m\u001b[0m \u001b[1m0s\u001b[0m 109ms/step\n"
     ]
    }
   ],
   "source": [
    "predictions_toSave = sa_model.predict(X_test[:20])"
   ]
  },
  {
   "cell_type": "code",
   "execution_count": 164,
   "id": "cb0ea4fe-990a-4d2a-bfb7-290691ee678b",
   "metadata": {},
   "outputs": [],
   "source": [
    "# packaging data\n",
    "def to_label(val):\n",
    "    return \"Positive\" if val == 1 else \"Negative\"\n",
    "    \n",
    "sa_data = {\n",
    "    \"Review\": test_reviews[:20],\n",
    "    \"Sentiment\":  [to_label(y) for y in y_test[:20]],\n",
    "    \"Prediction\": [to_label(y) for y in predictions[:20]]\n",
    "}"
   ]
  },
  {
   "cell_type": "code",
   "execution_count": 170,
   "id": "41be105f-cd69-421b-8925-e9963ff9a826",
   "metadata": {},
   "outputs": [
    {
     "data": {
      "text/html": [
       "<div>\n",
       "<style scoped>\n",
       "    .dataframe tbody tr th:only-of-type {\n",
       "        vertical-align: middle;\n",
       "    }\n",
       "\n",
       "    .dataframe tbody tr th {\n",
       "        vertical-align: top;\n",
       "    }\n",
       "\n",
       "    .dataframe thead th {\n",
       "        text-align: right;\n",
       "    }\n",
       "</style>\n",
       "<table border=\"1\" class=\"dataframe\">\n",
       "  <thead>\n",
       "    <tr style=\"text-align: right;\">\n",
       "      <th></th>\n",
       "      <th>Review</th>\n",
       "      <th>Sentiment</th>\n",
       "      <th>Prediction</th>\n",
       "    </tr>\n",
       "  </thead>\n",
       "  <tbody>\n",
       "    <tr>\n",
       "      <th>0</th>\n",
       "      <td>This Showtime movie really deserves a far bett...</td>\n",
       "      <td>Positive</td>\n",
       "      <td>Negative</td>\n",
       "    </tr>\n",
       "    <tr>\n",
       "      <th>1</th>\n",
       "      <td>I love basketball and this seemed like an intr...</td>\n",
       "      <td>Negative</td>\n",
       "      <td>Negative</td>\n",
       "    </tr>\n",
       "    <tr>\n",
       "      <th>2</th>\n",
       "      <td>I have seen bad films but this took the p***. ...</td>\n",
       "      <td>Negative</td>\n",
       "      <td>Negative</td>\n",
       "    </tr>\n",
       "    <tr>\n",
       "      <th>3</th>\n",
       "      <td>I work with children from 0  6 years old and ...</td>\n",
       "      <td>Positive</td>\n",
       "      <td>Positive</td>\n",
       "    </tr>\n",
       "    <tr>\n",
       "      <th>4</th>\n",
       "      <td>I watched this movie the other night, and I ha...</td>\n",
       "      <td>Positive</td>\n",
       "      <td>Positive</td>\n",
       "    </tr>\n",
       "    <tr>\n",
       "      <th>5</th>\n",
       "      <td>I ended up liking this movie but it was not th...</td>\n",
       "      <td>Positive</td>\n",
       "      <td>Negative</td>\n",
       "    </tr>\n",
       "    <tr>\n",
       "      <th>6</th>\n",
       "      <td>This Asterix is very similar to modern Disney ...</td>\n",
       "      <td>Negative</td>\n",
       "      <td>Negative</td>\n",
       "    </tr>\n",
       "    <tr>\n",
       "      <th>7</th>\n",
       "      <td>Engaging, riveting tale of captured US army tu...</td>\n",
       "      <td>Positive</td>\n",
       "      <td>Positive</td>\n",
       "    </tr>\n",
       "    <tr>\n",
       "      <th>8</th>\n",
       "      <td>A great suspense movie with terrific slow came...</td>\n",
       "      <td>Positive</td>\n",
       "      <td>Negative</td>\n",
       "    </tr>\n",
       "    <tr>\n",
       "      <th>9</th>\n",
       "      <td>Return to Frogtown was a hard film to track do...</td>\n",
       "      <td>Negative</td>\n",
       "      <td>Negative</td>\n",
       "    </tr>\n",
       "    <tr>\n",
       "      <th>10</th>\n",
       "      <td>It's here. finally a movie comes out that I ca...</td>\n",
       "      <td>Negative</td>\n",
       "      <td>Negative</td>\n",
       "    </tr>\n",
       "    <tr>\n",
       "      <th>11</th>\n",
       "      <td>This show was crap when it first came on. The ...</td>\n",
       "      <td>Positive</td>\n",
       "      <td>Negative</td>\n",
       "    </tr>\n",
       "    <tr>\n",
       "      <th>12</th>\n",
       "      <td>Dallas stars Gary Cooper, Ruth Roman, Steve Co...</td>\n",
       "      <td>Positive</td>\n",
       "      <td>Positive</td>\n",
       "    </tr>\n",
       "    <tr>\n",
       "      <th>13</th>\n",
       "      <td>The prerequisite for making such a film is a c...</td>\n",
       "      <td>Negative</td>\n",
       "      <td>Negative</td>\n",
       "    </tr>\n",
       "    <tr>\n",
       "      <th>14</th>\n",
       "      <td>I had high hopes for it when I heard that it w...</td>\n",
       "      <td>Negative</td>\n",
       "      <td>Negative</td>\n",
       "    </tr>\n",
       "    <tr>\n",
       "      <th>15</th>\n",
       "      <td>This movie is powerful. I watched this movie a...</td>\n",
       "      <td>Positive</td>\n",
       "      <td>Negative</td>\n",
       "    </tr>\n",
       "    <tr>\n",
       "      <th>16</th>\n",
       "      <td>New York, I Love You, or rather should-be-titl...</td>\n",
       "      <td>Negative</td>\n",
       "      <td>Negative</td>\n",
       "    </tr>\n",
       "    <tr>\n",
       "      <th>17</th>\n",
       "      <td>Cabin Fever is the first feature film directed...</td>\n",
       "      <td>Negative</td>\n",
       "      <td>Negative</td>\n",
       "    </tr>\n",
       "    <tr>\n",
       "      <th>18</th>\n",
       "      <td>Jack Frost is Really a Cool Movie. I Mean....I...</td>\n",
       "      <td>Positive</td>\n",
       "      <td>Positive</td>\n",
       "    </tr>\n",
       "    <tr>\n",
       "      <th>19</th>\n",
       "      <td>This movie is finally out on DVD in Italy (com...</td>\n",
       "      <td>Positive</td>\n",
       "      <td>Negative</td>\n",
       "    </tr>\n",
       "  </tbody>\n",
       "</table>\n",
       "</div>"
      ],
      "text/plain": [
       "                                               Review Sentiment Prediction\n",
       "0   This Showtime movie really deserves a far bett...  Positive   Negative\n",
       "1   I love basketball and this seemed like an intr...  Negative   Negative\n",
       "2   I have seen bad films but this took the p***. ...  Negative   Negative\n",
       "3   I work with children from 0  6 years old and ...  Positive   Positive\n",
       "4   I watched this movie the other night, and I ha...  Positive   Positive\n",
       "5   I ended up liking this movie but it was not th...  Positive   Negative\n",
       "6   This Asterix is very similar to modern Disney ...  Negative   Negative\n",
       "7   Engaging, riveting tale of captured US army tu...  Positive   Positive\n",
       "8   A great suspense movie with terrific slow came...  Positive   Negative\n",
       "9   Return to Frogtown was a hard film to track do...  Negative   Negative\n",
       "10  It's here. finally a movie comes out that I ca...  Negative   Negative\n",
       "11  This show was crap when it first came on. The ...  Positive   Negative\n",
       "12  Dallas stars Gary Cooper, Ruth Roman, Steve Co...  Positive   Positive\n",
       "13  The prerequisite for making such a film is a c...  Negative   Negative\n",
       "14  I had high hopes for it when I heard that it w...  Negative   Negative\n",
       "15  This movie is powerful. I watched this movie a...  Positive   Negative\n",
       "16  New York, I Love You, or rather should-be-titl...  Negative   Negative\n",
       "17  Cabin Fever is the first feature film directed...  Negative   Negative\n",
       "18  Jack Frost is Really a Cool Movie. I Mean....I...  Positive   Positive\n",
       "19  This movie is finally out on DVD in Italy (com...  Positive   Negative"
      ]
     },
     "execution_count": 170,
     "metadata": {},
     "output_type": "execute_result"
    }
   ],
   "source": [
    "# saving results\n",
    "to_save_df = pd.DataFrame(sa_data)\n",
    "to_save_df.to_csv(\"sample_sentiment_output.csv\", index=False)\n",
    "to_save_df"
   ]
  },
  {
   "cell_type": "code",
   "execution_count": null,
   "id": "034c0ce4-ba78-4cd9-8012-eefcdac85396",
   "metadata": {},
   "outputs": [],
   "source": []
  }
 ],
 "metadata": {
  "kernelspec": {
   "display_name": "Python 3 (ipykernel)",
   "language": "python",
   "name": "python3"
  },
  "language_info": {
   "codemirror_mode": {
    "name": "ipython",
    "version": 3
   },
   "file_extension": ".py",
   "mimetype": "text/x-python",
   "name": "python",
   "nbconvert_exporter": "python",
   "pygments_lexer": "ipython3",
   "version": "3.12.7"
  }
 },
 "nbformat": 4,
 "nbformat_minor": 5
}
